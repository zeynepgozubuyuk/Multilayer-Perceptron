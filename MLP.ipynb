{
 "cells": [
  {
   "cell_type": "code",
   "execution_count": 6,
   "id": "bb8281c0",
   "metadata": {},
   "outputs": [],
   "source": [
    "import torch\n",
    "import torch.nn as nn\n",
    "import torch.optim as optim\n",
    "from torch.utils.data import DataLoader, Dataset\n",
    "import pandas as pd\n",
    "import numpy as np\n",
    "\n",
    "# csv dosyalarını yukledim\n",
    "train_data = pd.read_csv(r'C:\\Users\\Zeynep\\Downloads\\cure_the_princess_train.csv')\n",
    "valid_data = pd.read_csv(r'C:\\Users\\Zeynep\\Downloads\\cure_the_princess_validation.csv')\n",
    "test_data = pd.read_csv(r'C:\\Users\\Zeynep\\Downloads\\cure_the_princess_test.csv')\n",
    "\n",
    "# input size'ı train datadaki sutuna göre (oznitelik) belirledim\n",
    "input_size = len(train_data.columns) - 1 "
   ]
  },
  {
   "cell_type": "code",
   "execution_count": 7,
   "id": "e9f641bc",
   "metadata": {},
   "outputs": [],
   "source": [
    "class CustomDataset(Dataset):\n",
    "    def __init__(self, data):\n",
    "        self.X = data.iloc[:, :-1].values\n",
    "        self.y = data.iloc[:, -1].values.reshape(-1, 1)\n",
    "        \n",
    "    def __len__(self):\n",
    "        return len(self.X)\n",
    "    \n",
    "    def __getitem__(self, index):\n",
    "        return torch.tensor(self.X[index], dtype=torch.float), torch.tensor(self.y[index], dtype=torch.float)\n",
    "        \n",
    "train_dataset = CustomDataset(train_data)\n",
    "valid_dataset = CustomDataset(valid_data)\n",
    "test_dataset = CustomDataset(test_data)\n",
    "\n",
    "# DataLoader ve batchsize\n",
    "batch_size = 16\n",
    "train_loader = DataLoader(train_dataset, batch_size=batch_size, shuffle=True)\n",
    "valid_loader = DataLoader(valid_dataset, batch_size=batch_size)\n",
    "test_loader = DataLoader(test_dataset, batch_size=batch_size)"
   ]
  },
  {
   "cell_type": "code",
   "execution_count": 8,
   "id": "b4413e10",
   "metadata": {},
   "outputs": [],
   "source": [
    "class MLP(nn.Module):\n",
    "    def __init__(self, input_size, hidden_size1, hidden_size2, output_size):\n",
    "        super().__init__()\n",
    "        self.hidden_layer1 = nn.Linear(input_size, hidden_size1)\n",
    "        self.hidden_layer2 = nn.Linear(hidden_size1, hidden_size2)\n",
    "        self.output_layer = nn.Linear(hidden_size2, output_size)\n",
    "        # relu ve sigmoid aktivasyon fonksiyonları\n",
    "        self.relu = nn.ReLU()\n",
    "        self.sigmoid = nn.Sigmoid()\n",
    "\n",
    "    def forward(self, x):\n",
    "        x = self.relu(self.hidden_layer1(x))\n",
    "        x = self.relu(self.hidden_layer2(x))\n",
    "        x = self.sigmoid(self.output_layer(x))\n",
    "        return x\n",
    "output_size = len(np.unique(train_data.iloc[:, -1].values))"
   ]
  },
  {
   "cell_type": "code",
   "execution_count": 9,
   "id": "ccdf555a",
   "metadata": {},
   "outputs": [],
   "source": [
    "model = MLP(input_size=input_size, hidden_size1=100, hidden_size2=50, output_size=output_size)\n",
    "# 1. hidden size kısmında 100, 2. hidden size kısmında 50 nöron bulunan neural network'u'tanımladım"
   ]
  },
  {
   "cell_type": "code",
   "execution_count": 10,
   "id": "5c2d4666",
   "metadata": {},
   "outputs": [
    {
     "data": {
      "text/plain": [
       "<torch._C.Generator at 0x1c77f758cd0>"
      ]
     },
     "execution_count": 10,
     "metadata": {},
     "output_type": "execute_result"
    }
   ],
   "source": [
    "device = torch.device(\"cuda\" if torch.cuda.is_available() else \"cpu\")\n",
    "model.to(device)\n",
    "\n",
    "# Random seed'i ilk olarak 1 ayarladim. kodumu 1 defa çalistirdiktan sonra oğrenci numaram olan 190401025 ile degiştirdim.\n",
    "torch.manual_seed(190401025)"
   ]
  },
  {
   "cell_type": "code",
   "execution_count": 11,
   "id": "083e1263",
   "metadata": {},
   "outputs": [
    {
     "name": "stdout",
     "output_type": "stream",
     "text": [
      "Epoch:  0   Train Loss:  0.6488607649605114   Train Acc: % 66.93290734824281   Valid Loss:  0.6021905089639554   Valid Acc: % 73.24840764331209\n",
      "Epoch:  1   Train Loss:  0.5874619960023192   Train Acc: % 76.43769968051119   Valid Loss:  0.5486974693407678   Valid Acc: % 79.61783439490446\n",
      "Epoch:  2   Train Loss:  0.5419011121740738   Train Acc: % 79.87220447284345   Valid Loss:  0.5037288470253064   Valid Acc: % 83.7579617834395\n",
      "Epoch:  3   Train Loss:  0.5080024003982544   Train Acc: % 83.94568690095848   Valid Loss:  0.4708516263658074   Valid Acc: % 89.171974522293\n",
      "Epoch:  4   Train Loss:  0.48857180169596076   Train Acc: % 85.3035143769968   Valid Loss:  0.49558878438487936   Valid Acc: % 83.43949044585987\n",
      "Epoch:  5   Train Loss:  0.47035958287053214   Train Acc: % 86.4217252396166   Valid Loss:  0.4781591801127051   Valid Acc: % 81.52866242038218\n",
      "Epoch:  6   Train Loss:  0.457912067064462   Train Acc: % 87.46006389776358   Valid Loss:  0.42425496373206945   Valid Acc: % 90.76433121019109\n",
      "Epoch:  7   Train Loss:  0.4475407948890052   Train Acc: % 88.17891373801918   Valid Loss:  0.4323493403613947   Valid Acc: % 88.53503184713377\n",
      "Epoch:  8   Train Loss:  0.4401361848028323   Train Acc: % 89.1373801916933   Valid Loss:  0.40743417819594124   Valid Acc: % 92.99363057324841\n",
      "Epoch:  9   Train Loss:  0.4305781656370376   Train Acc: % 89.77635782747603   Valid Loss:  0.4183846660860025   Valid Acc: % 89.80891719745223\n",
      "Epoch:  10   Train Loss:  0.43020017611713834   Train Acc: % 89.5367412140575   Valid Loss:  0.4145527979370895   Valid Acc: % 90.76433121019109\n",
      "Epoch:  11   Train Loss:  0.42269929872153283   Train Acc: % 90.2555910543131   Valid Loss:  0.4102497083745944   Valid Acc: % 91.0828025477707\n",
      "Epoch:  12   Train Loss:  0.4195629183095865   Train Acc: % 90.33546325878594   Valid Loss:  0.47459929137472895   Valid Acc: % 82.80254777070064\n",
      "Epoch:  13   Train Loss:  0.4156763961139959   Train Acc: % 91.21405750798722   Valid Loss:  0.4100430801415899   Valid Acc: % 90.44585987261146\n",
      "Epoch:  14   Train Loss:  0.41365119481619933   Train Acc: % 91.13418530351439   Valid Loss:  0.4133560437305718   Valid Acc: % 90.76433121019109\n",
      "Epoch:  15   Train Loss:  0.41361366359951396   Train Acc: % 91.05431309904152   Valid Loss:  0.3893967840322264   Valid Acc: % 93.63057324840764\n",
      "Epoch:  16   Train Loss:  0.4080448385816032   Train Acc: % 91.45367412140575   Valid Loss:  0.3869550429332029   Valid Acc: % 93.31210191082803\n",
      "Epoch:  17   Train Loss:  0.40404017017291377   Train Acc: % 91.93290734824281   Valid Loss:  0.39354130416918714   Valid Acc: % 92.67515923566879\n",
      "Epoch:  18   Train Loss:  0.4027305074012318   Train Acc: % 91.53354632587859   Valid Loss:  0.38643855350032735   Valid Acc: % 93.63057324840764\n",
      "Epoch:  19   Train Loss:  0.400873228193472   Train Acc: % 92.01277955271566   Valid Loss:  0.39671833044404436   Valid Acc: % 92.35668789808918\n",
      "Epoch:  20   Train Loss:  0.39735540899986654   Train Acc: % 92.33226837060703   Valid Loss:  0.3864903328525033   Valid Acc: % 92.03821656050955\n",
      "Epoch:  21   Train Loss:  0.3986705575888149   Train Acc: % 92.01277955271566   Valid Loss:  0.3922095509471407   Valid Acc: % 91.71974522292994\n",
      "Epoch:  22   Train Loss:  0.39494914292527467   Train Acc: % 92.25239616613419   Valid Loss:  0.42139060406168555   Valid Acc: % 88.21656050955414\n",
      "Epoch:  23   Train Loss:  0.39464849357406934   Train Acc: % 92.81150159744409   Valid Loss:  0.3847528737821397   Valid Acc: % 94.26751592356688\n",
      "Epoch:  24   Train Loss:  0.3934205602914   Train Acc: % 92.81150159744409   Valid Loss:  0.3893923626583853   Valid Acc: % 93.63057324840764\n",
      "Epoch:  25   Train Loss:  0.3923576836007091   Train Acc: % 92.97124600638978   Valid Loss:  0.3782874989281794   Valid Acc: % 93.94904458598727\n",
      "Epoch:  26   Train Loss:  0.38954942171185164   Train Acc: % 92.97124600638978   Valid Loss:  0.4005650923510266   Valid Acc: % 90.44585987261146\n",
      "Epoch:  27   Train Loss:  0.39115026298041544   Train Acc: % 92.49201277955271   Valid Loss:  0.37399691495166465   Valid Acc: % 94.26751592356688\n",
      "Epoch:  28   Train Loss:  0.3896750564011522   Train Acc: % 92.97124600638978   Valid Loss:  0.37778871682039494   Valid Acc: % 94.26751592356688\n",
      "Epoch:  29   Train Loss:  0.3859166661009621   Train Acc: % 93.29073482428115   Valid Loss:  0.38448543647292316   Valid Acc: % 92.67515923566879\n",
      "Epoch:  30   Train Loss:  0.3847809812893121   Train Acc: % 93.84984025559106   Valid Loss:  0.3761550252604636   Valid Acc: % 93.63057324840764\n",
      "Epoch:  31   Train Loss:  0.38364997487098645   Train Acc: % 93.76996805111821   Valid Loss:  0.3855194893612224   Valid Acc: % 92.67515923566879\n",
      "Epoch:  32   Train Loss:  0.38234357683422465   Train Acc: % 93.76996805111821   Valid Loss:  0.39749287173246883   Valid Acc: % 91.0828025477707\n",
      "Epoch:  33   Train Loss:  0.3825888226207453   Train Acc: % 93.76996805111821   Valid Loss:  0.3908478480995081   Valid Acc: % 91.71974522292994\n",
      "Epoch:  34   Train Loss:  0.3807625945764609   Train Acc: % 93.84984025559106   Valid Loss:  0.3808467961420679   Valid Acc: % 92.67515923566879\n",
      "Epoch:  35   Train Loss:  0.38131325561017654   Train Acc: % 93.9297124600639   Valid Loss:  0.3706737794693868   Valid Acc: % 94.5859872611465\n",
      "Epoch:  36   Train Loss:  0.37869704236237767   Train Acc: % 93.9297124600639   Valid Loss:  0.37239734837963323   Valid Acc: % 94.5859872611465\n",
      "Epoch:  37   Train Loss:  0.37736842312371005   Train Acc: % 94.16932907348243   Valid Loss:  0.3792470471494517   Valid Acc: % 92.67515923566879\n",
      "Epoch:  38   Train Loss:  0.37732438900219367   Train Acc: % 93.69009584664538   Valid Loss:  0.38182111473599817   Valid Acc: % 92.67515923566879\n",
      "Epoch:  39   Train Loss:  0.37750139442114783   Train Acc: % 94.08945686900958   Valid Loss:  0.459686523030518   Valid Acc: % 83.12101910828027\n",
      "Epoch:  40   Train Loss:  0.3764436152605965   Train Acc: % 94.32907348242811   Valid Loss:  0.37355818888943665   Valid Acc: % 93.94904458598727\n",
      "Epoch:  41   Train Loss:  0.3738513348963314   Train Acc: % 94.24920127795528   Valid Loss:  0.36924834293165026   Valid Acc: % 95.22292993630573\n",
      "Epoch:  42   Train Loss:  0.3734005105000334   Train Acc: % 94.6485623003195   Valid Loss:  0.3694843334756839   Valid Acc: % 94.90445859872611\n",
      "Epoch:  43   Train Loss:  0.37074630519452567   Train Acc: % 94.96805111821087   Valid Loss:  0.36864022730262413   Valid Acc: % 94.90445859872611\n",
      "Epoch:  44   Train Loss:  0.37275532544992224   Train Acc: % 94.40894568690096   Valid Loss:  0.3692238661134319   Valid Acc: % 94.90445859872611\n",
      "Epoch:  45   Train Loss:  0.37177688740312864   Train Acc: % 94.72843450479233   Valid Loss:  0.37021006159721664   Valid Acc: % 94.26751592356688\n",
      "Epoch:  46   Train Loss:  0.3707679078792231   Train Acc: % 94.88817891373802   Valid Loss:  0.38676392215832023   Valid Acc: % 92.35668789808918\n",
      "Epoch:  47   Train Loss:  0.3691884098342432   Train Acc: % 94.88817891373802   Valid Loss:  0.3999988427207728   Valid Acc: % 91.40127388535032\n",
      "Epoch:  48   Train Loss:  0.3691605910325584   Train Acc: % 95.0479233226837   Valid Loss:  0.3653845971177338   Valid Acc: % 94.90445859872611\n",
      "Epoch:  49   Train Loss:  0.36779568580011973   Train Acc: % 95.36741214057508   Valid Loss:  0.36646698272911604   Valid Acc: % 95.22292993630573\n"
     ]
    }
   ],
   "source": [
    "import seaborn as sns\n",
    "import matplotlib.pyplot as plt\n",
    "\n",
    "# grafik icin gerekli listeler olusturuldu\n",
    "train_losses = []\n",
    "valid_losses = []\n",
    "\n",
    "# optimizer ve loss\n",
    "criterion = nn.CrossEntropyLoss()\n",
    "optimizer = optim.SGD(model.parameters(), lr=0.01)\n",
    "\n",
    "# train\n",
    "def train(model, dataloader, criterion, optimizer):\n",
    "    train_loss = 0\n",
    "    train_acc = 0\n",
    "    total = 0\n",
    "    \n",
    "    model.train()\n",
    "    \n",
    "    for inputs, targets in dataloader:\n",
    "        optimizer.zero_grad()\n",
    "        \n",
    "        outputs = model(inputs)\n",
    "        loss = criterion(outputs, targets.squeeze().long())\n",
    "        loss.backward()\n",
    "        optimizer.step()\n",
    "        \n",
    "        _, predicted = torch.max(outputs, 1)\n",
    "        total += targets.size(0)\n",
    "        train_acc += (predicted == targets.squeeze().long()).sum().item()\n",
    "        train_loss += loss.item() * inputs.size(0)\n",
    "        \n",
    "    return train_loss / total, train_acc / total\n",
    "\n",
    "# evaluate\n",
    "def evaluate(model, dataloader, criterion):\n",
    "    valid_loss = 0\n",
    "    valid_acc = 0\n",
    "    total = 0\n",
    "    \n",
    "    model.eval()\n",
    "    \n",
    "    with torch.no_grad():\n",
    "        for inputs, targets in dataloader:\n",
    "            outputs = model(inputs)\n",
    "            loss = criterion(outputs, targets.squeeze().long())\n",
    "            \n",
    "            _, predicted = torch.max(outputs, 1)\n",
    "            total += targets.size(0)\n",
    "            valid_acc += (predicted == targets.squeeze().long()).sum().item()\n",
    "            valid_loss += loss.item() * inputs.size(0)\n",
    "        \n",
    "    return valid_loss / total, valid_acc / total\n",
    "\n",
    "# egitim\n",
    "n_epochs = 50\n",
    "\n",
    "best_valid_loss = np.inf\n",
    "\n",
    "for epoch in range(n_epochs):\n",
    "    train_loss, train_acc = train(model, train_loader, criterion, optimizer)\n",
    "    valid_loss, valid_acc = evaluate(model, valid_loader, criterion)\n",
    "    # listeye ekleniyor\n",
    "    train_losses.append(train_loss)\n",
    "    valid_losses.append(valid_loss)\n",
    "    if valid_loss < best_valid_loss:\n",
    "        best_valid_loss = valid_loss\n",
    "        torch.save(model.state_dict(), 'checkpoint.pt')\n",
    "        \n",
    "    print('Epoch: ',epoch, '  Train Loss: ',train_loss,'  Train Acc: %',train_acc*100,'  Valid Loss: ',valid_loss, '  Valid Acc: %',valid_acc*100)"
   ]
  },
  {
   "cell_type": "code",
   "execution_count": 12,
   "id": "60cc1b20",
   "metadata": {},
   "outputs": [
    {
     "data": {
      "image/png": "[encoded data removed]",
      "text/plain": [
       "<Figure size 500x500 with 1 Axes>"
      ]
     },
     "metadata": {},
     "output_type": "display_data"
    }
   ],
   "source": [
    "# grafik\n",
    "sns.set_style('darkgrid')\n",
    "plt.figure(figsize=(5,5))\n",
    "plt.plot(train_losses, label='Training Loss')\n",
    "plt.plot(valid_losses, label='Validation Loss')\n",
    "plt.xlabel('Epoch')\n",
    "plt.ylabel('Loss')\n",
    "plt.legend()\n",
    "plt.show()"
   ]
  },
  {
   "cell_type": "code",
   "execution_count": 13,
   "id": "b688e605",
   "metadata": {},
   "outputs": [
    {
     "name": "stdout",
     "output_type": "stream",
     "text": [
      "Test Loss:  0.3776281235131575 Test Acc: % 93.65284974093264\n"
     ]
    }
   ],
   "source": [
    "model.load_state_dict(torch.load('checkpoint.pt'))\n",
    "\n",
    "# test\n",
    "def test(model, dataloader, criterion):\n",
    "    test_loss = 0\n",
    "    test_acc = 0\n",
    "    total = 0\n",
    "    \n",
    "    model.eval()\n",
    "    \n",
    "    with torch.no_grad():\n",
    "        for inputs, targets in dataloader:\n",
    "            outputs = model(inputs)\n",
    "            loss = criterion(outputs, targets.squeeze().long())\n",
    "            \n",
    "            _, predicted = torch.max(outputs, 1)\n",
    "            total += targets.size(0)\n",
    "            test_acc += (predicted == targets.squeeze().long()).sum().item()\n",
    "            test_loss += loss.item() * inputs.size(0)\n",
    "        \n",
    "    return test_loss / total, test_acc / total\n",
    "   \n",
    "# test veri seti üzerinde model performansı\n",
    "test_loss, test_acc = test(model, test_loader, criterion)\n",
    "\n",
    "print('Test Loss: ' ,test_loss , 'Test Acc: %', test_acc*100)\n"
   ]
  }
 ],
 "metadata": {
  "kernelspec": {
   "display_name": "Python 3 (ipykernel)",
   "language": "python",
   "name": "python3"
  },
  "language_info": {
   "codemirror_mode": {
    "name": "ipython",
    "version": 3
   },
   "file_extension": ".py",
   "mimetype": "text/x-python",
   "name": "python",
   "nbconvert_exporter": "python",
   "pygments_lexer": "ipython3",
   "version": "3.11.3"
  }
 },
 "nbformat": 4,
 "nbformat_minor": 5
}
