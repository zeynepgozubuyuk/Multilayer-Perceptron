{
 "cells": [
  {
   "cell_type": "code",
   "execution_count": 19,
   "id": "bb8281c0",
   "metadata": {},
   "outputs": [],
   "source": [
    "import torch\n",
    "import torch.nn as nn\n",
    "import torch.optim as optim\n",
    "from torch.utils.data import DataLoader, Dataset\n",
    "import pandas as pd\n",
    "import numpy as np\n",
    "\n",
    "# csv dosyalarını yukledim\n",
    "train_data = pd.read_csv(r'C:\\Users\\Zeynep\\Downloads\\cure_the_princess_train.csv')\n",
    "valid_data = pd.read_csv(r'C:\\Users\\Zeynep\\Downloads\\cure_the_princess_validation.csv')\n",
    "test_data = pd.read_csv(r'C:\\Users\\Zeynep\\Downloads\\cure_the_princess_test.csv')\n",
    "\n",
    "# input size'ı train datadaki sutuna göre (oznitelik) belirledim\n",
    "input_size = len(train_data.columns) - 1 "
   ]
  },
  {
   "cell_type": "code",
   "execution_count": 20,
   "id": "e9f641bc",
   "metadata": {},
   "outputs": [],
   "source": [
    "class CustomDataset(Dataset):\n",
    "    def __init__(self, data):\n",
    "        self.X = data.iloc[:, :-1].values\n",
    "        self.y = data.iloc[:, -1].values.reshape(-1, 1)\n",
    "        \n",
    "    def __len__(self):\n",
    "        return len(self.X)\n",
    "    \n",
    "    def __getitem__(self, index):\n",
    "        return torch.tensor(self.X[index], dtype=torch.float), torch.tensor(self.y[index], dtype=torch.float)\n",
    "        \n",
    "train_dataset = CustomDataset(train_data)\n",
    "valid_dataset = CustomDataset(valid_data)\n",
    "test_dataset = CustomDataset(test_data)\n",
    "\n",
    "# DataLoader ve batchsize\n",
    "batch_size = 16\n",
    "train_loader = DataLoader(train_dataset, batch_size=batch_size, shuffle=True)\n",
    "valid_loader = DataLoader(valid_dataset, batch_size=batch_size)\n",
    "test_loader = DataLoader(test_dataset, batch_size=batch_size)"
   ]
  },
  {
   "cell_type": "code",
   "execution_count": 21,
   "id": "b4413e10",
   "metadata": {},
   "outputs": [],
   "source": [
    "class MLP(nn.Module):\n",
    "    def __init__(self, input_size, hidden_size1, hidden_size2, output_size):\n",
    "        super().__init__()\n",
    "        self.hidden_layer1 = nn.Linear(input_size, hidden_size1)\n",
    "        self.hidden_layer2 = nn.Linear(hidden_size1, hidden_size2)\n",
    "        self.output_layer = nn.Linear(hidden_size2, output_size)\n",
    "        # relu ve sigmoid aktivasyon fonksiyonları\n",
    "        self.relu = nn.ReLU()\n",
    "        self.sigmoid = nn.Sigmoid()\n",
    "\n",
    "    def forward(self, x):\n",
    "        x = self.relu(self.hidden_layer1(x))\n",
    "        x = self.relu(self.hidden_layer2(x))\n",
    "        x = self.sigmoid(self.output_layer(x))\n",
    "        return x\n",
    "output_size = len(np.unique(train_data.iloc[:, -1].values))"
   ]
  },
  {
   "cell_type": "code",
   "execution_count": 22,
   "id": "ccdf555a",
   "metadata": {},
   "outputs": [],
   "source": [
    "model = MLP(input_size=input_size, hidden_size1=100, hidden_size2=50, output_size=output_size)\n",
    "# 1. hidden size kısmında 100, 2. hidden size kısmında 50 nöron bulunan neural network'u'tanımladım"
   ]
  },
  {
   "cell_type": "code",
   "execution_count": 23,
   "id": "5c2d4666",
   "metadata": {},
   "outputs": [
    {
     "data": {
      "text/plain": [
       "<torch._C.Generator at 0x1d743c1ccf0>"
      ]
     },
     "execution_count": 23,
     "metadata": {},
     "output_type": "execute_result"
    }
   ],
   "source": [
    "device = torch.device(\"cuda\" if torch.cuda.is_available() else \"cpu\")\n",
    "model.to(device)\n",
    "\n",
    "# Random seed'i ilk olarak 1 ayarladim. kodumu 1 defa çalistirdiktan sonra oğrenci numaram olan 190401025 ile degiştirdim.\n",
    "torch.manual_seed(190401025)"
   ]
  },
  {
   "cell_type": "code",
   "execution_count": 24,
   "id": "083e1263",
   "metadata": {},
   "outputs": [
    {
     "name": "stdout",
     "output_type": "stream",
     "text": [
      "Epoch: 0  Train Loss: 0.6550  Train Acc: %64.22  Valid Loss: 0.5984  Valid Acc: %73.25\n",
      "Epoch: 1  Train Loss: 0.5710  Train Acc: %78.19  Valid Loss: 0.5262  Valid Acc: %82.80\n",
      "Epoch: 2  Train Loss: 0.5192  Train Acc: %81.95  Valid Loss: 0.4816  Valid Acc: %85.99\n",
      "Epoch: 3  Train Loss: 0.4902  Train Acc: %84.58  Valid Loss: 0.4504  Valid Acc: %90.45\n",
      "Epoch: 4  Train Loss: 0.4752  Train Acc: %85.78  Valid Loss: 0.4827  Valid Acc: %83.44\n",
      "Epoch: 5  Train Loss: 0.4639  Train Acc: %85.54  Valid Loss: 0.4523  Valid Acc: %86.62\n",
      "Epoch: 6  Train Loss: 0.4556  Train Acc: %86.50  Valid Loss: 0.4239  Valid Acc: %91.72\n",
      "Epoch: 7  Train Loss: 0.4482  Train Acc: %87.62  Valid Loss: 0.4177  Valid Acc: %91.72\n",
      "Epoch: 8  Train Loss: 0.4423  Train Acc: %88.26  Valid Loss: 0.4090  Valid Acc: %92.04\n",
      "Epoch: 9  Train Loss: 0.4364  Train Acc: %88.10  Valid Loss: 0.4102  Valid Acc: %91.08\n",
      "Epoch: 10  Train Loss: 0.4350  Train Acc: %88.26  Valid Loss: 0.4090  Valid Acc: %92.36\n",
      "Epoch: 11  Train Loss: 0.4304  Train Acc: %89.30  Valid Loss: 0.4019  Valid Acc: %91.72\n",
      "Epoch: 12  Train Loss: 0.4271  Train Acc: %89.06  Valid Loss: 0.4573  Valid Acc: %84.71\n",
      "Epoch: 13  Train Loss: 0.4248  Train Acc: %89.62  Valid Loss: 0.4199  Valid Acc: %89.17\n",
      "Epoch: 14  Train Loss: 0.4228  Train Acc: %89.78  Valid Loss: 0.4487  Valid Acc: %85.03\n",
      "Epoch: 15  Train Loss: 0.4232  Train Acc: %89.38  Valid Loss: 0.3952  Valid Acc: %92.68\n",
      "Epoch: 16  Train Loss: 0.4192  Train Acc: %89.62  Valid Loss: 0.4005  Valid Acc: %92.68\n",
      "Epoch: 17  Train Loss: 0.4156  Train Acc: %89.86  Valid Loss: 0.3979  Valid Acc: %92.36\n",
      "Epoch: 18  Train Loss: 0.4157  Train Acc: %89.94  Valid Loss: 0.3963  Valid Acc: %92.36\n",
      "Epoch: 19  Train Loss: 0.4123  Train Acc: %90.18  Valid Loss: 0.4014  Valid Acc: %90.13\n",
      "Epoch: 20  Train Loss: 0.4108  Train Acc: %90.65  Valid Loss: 0.3911  Valid Acc: %92.99\n",
      "Epoch: 21  Train Loss: 0.4107  Train Acc: %90.18  Valid Loss: 0.3985  Valid Acc: %90.76\n",
      "Epoch: 22  Train Loss: 0.4068  Train Acc: %90.81  Valid Loss: 0.3961  Valid Acc: %92.04\n",
      "Epoch: 23  Train Loss: 0.4047  Train Acc: %90.97  Valid Loss: 0.3974  Valid Acc: %92.04\n",
      "Epoch: 24  Train Loss: 0.4037  Train Acc: %91.53  Valid Loss: 0.3971  Valid Acc: %92.04\n",
      "Epoch: 25  Train Loss: 0.4034  Train Acc: %91.05  Valid Loss: 0.3883  Valid Acc: %93.31\n",
      "Epoch: 26  Train Loss: 0.3993  Train Acc: %91.69  Valid Loss: 0.4030  Valid Acc: %90.76\n",
      "Epoch: 27  Train Loss: 0.4002  Train Acc: %91.93  Valid Loss: 0.3972  Valid Acc: %92.04\n",
      "Epoch: 28  Train Loss: 0.3984  Train Acc: %91.93  Valid Loss: 0.3923  Valid Acc: %91.40\n",
      "Epoch: 29  Train Loss: 0.3945  Train Acc: %92.57  Valid Loss: 0.3891  Valid Acc: %93.31\n",
      "Epoch: 30  Train Loss: 0.3935  Train Acc: %92.17  Valid Loss: 0.3842  Valid Acc: %93.31\n",
      "Epoch: 31  Train Loss: 0.3918  Train Acc: %92.57  Valid Loss: 0.3886  Valid Acc: %92.99\n",
      "Epoch: 32  Train Loss: 0.3913  Train Acc: %92.41  Valid Loss: 0.3962  Valid Acc: %91.08\n",
      "Epoch: 33  Train Loss: 0.3909  Train Acc: %92.73  Valid Loss: 0.3967  Valid Acc: %91.08\n",
      "Epoch: 34  Train Loss: 0.3887  Train Acc: %92.73  Valid Loss: 0.3911  Valid Acc: %91.40\n",
      "Epoch: 35  Train Loss: 0.3882  Train Acc: %93.05  Valid Loss: 0.3806  Valid Acc: %93.31\n",
      "Epoch: 36  Train Loss: 0.3857  Train Acc: %93.21  Valid Loss: 0.3812  Valid Acc: %93.31\n",
      "Epoch: 37  Train Loss: 0.3842  Train Acc: %93.77  Valid Loss: 0.3875  Valid Acc: %92.04\n",
      "Epoch: 38  Train Loss: 0.3828  Train Acc: %93.21  Valid Loss: 0.4036  Valid Acc: %90.45\n",
      "Epoch: 39  Train Loss: 0.3835  Train Acc: %93.61  Valid Loss: 0.3833  Valid Acc: %93.63\n",
      "Validation loss did not improve for 5 epochs. Stopping early...\n"
     ]
    }
   ],
   "source": [
    "import seaborn as sns\n",
    "import matplotlib.pyplot as plt\n",
    "\n",
    "# grafik icin gerekli listeler olusturuldu\n",
    "train_losses = []\n",
    "valid_losses = []\n",
    "\n",
    "# optimizer ve loss\n",
    "criterion = nn.CrossEntropyLoss()\n",
    "optimizer = optim.SGD(model.parameters(), lr=0.01)\n",
    "\n",
    "# train\n",
    "def train(model, dataloader, criterion, optimizer):\n",
    "    train_loss = 0\n",
    "    train_acc = 0\n",
    "    total = 0\n",
    "    \n",
    "    model.train()\n",
    "    \n",
    "    for inputs, targets in dataloader:\n",
    "        optimizer.zero_grad()\n",
    "        \n",
    "        outputs = model(inputs)\n",
    "        loss = criterion(outputs, targets.squeeze().long())\n",
    "        loss.backward()\n",
    "        optimizer.step()\n",
    "        \n",
    "        _, predicted = torch.max(outputs, 1)\n",
    "        total += targets.size(0)\n",
    "        train_acc += (predicted == targets.squeeze().long()).sum().item()\n",
    "        train_loss += loss.item() * inputs.size(0)\n",
    "        \n",
    "    return train_loss / total, train_acc / total\n",
    "\n",
    "# evaluate\n",
    "def evaluate(model, dataloader, criterion):\n",
    "    valid_loss = 0\n",
    "    valid_acc = 0\n",
    "    total = 0\n",
    "    \n",
    "    model.eval()\n",
    "    \n",
    "    with torch.no_grad():\n",
    "        for inputs, targets in dataloader:\n",
    "            outputs = model(inputs)\n",
    "            loss = criterion(outputs, targets.squeeze().long())\n",
    "            \n",
    "            _, predicted = torch.max(outputs, 1)\n",
    "            total += targets.size(0)\n",
    "            valid_acc += (predicted == targets.squeeze().long()).sum().item()\n",
    "            valid_loss += loss.item() * inputs.size(0)\n",
    "        \n",
    "    return valid_loss / total, valid_acc / total\n",
    "\n",
    "# early stopping\n",
    "patience = 5\n",
    "early_stopping_counter = 0\n",
    "best_valid_loss = np.inf\n",
    "best_model_state_dict = None\n",
    "\n",
    "# egitim\n",
    "n_epochs = 50\n",
    "\n",
    "for epoch in range(n_epochs):\n",
    "    train_loss, train_acc = train(model, train_loader, criterion, optimizer)\n",
    "    valid_loss, valid_acc = evaluate(model, valid_loader, criterion)\n",
    "    \n",
    "    # listeye ekleniyor\n",
    "    train_losses.append(train_loss)\n",
    "    valid_losses.append(valid_loss)\n",
    "    \n",
    "    if valid_loss < best_valid_loss:\n",
    "        best_valid_loss = valid_loss\n",
    "        best_model_state_dict = model.state_dict()\n",
    "        early_stopping_counter = 0\n",
    "    else:\n",
    "        early_stopping_counter += 1\n",
    "    \n",
    "    if early_stopping_counter >= patience:\n",
    "        print(f'Validation loss did not improve for {patience} epochs. Stopping early...')\n",
    "        break\n",
    "    \n",
    "    print(f'Epoch: {epoch}  Train Loss: {train_loss:.4f}  Train Acc: %{train_acc*100:.2f}  Valid Loss: {valid_loss:.4f}  Valid Acc: %{valid_acc*100:.2f}')\n",
    "    \n",
    "torch.save(best_model_state_dict, 'chechpoint.pt')"
   ]
  },
  {
   "cell_type": "code",
   "execution_count": 25,
   "id": "60cc1b20",
   "metadata": {},
   "outputs": [
    {
     "data": {
      "image/png": "[encoded data removed]",
      "text/plain": [
       "<Figure size 500x500 with 1 Axes>"
      ]
     },
     "metadata": {},
     "output_type": "display_data"
    }
   ],
   "source": [
    "# grafik\n",
    "sns.set_style('darkgrid')\n",
    "plt.figure(figsize=(5,5))\n",
    "plt.plot(train_losses, label='Training Loss')\n",
    "plt.plot(valid_losses, label='Validation Loss')\n",
    "plt.xlabel('Epoch')\n",
    "plt.ylabel('Loss')\n",
    "plt.legend()\n",
    "plt.show()"
   ]
  },
  {
   "cell_type": "code",
   "execution_count": 26,
   "id": "b688e605",
   "metadata": {},
   "outputs": [
    {
     "name": "stdout",
     "output_type": "stream",
     "text": [
      "Test Loss:  0.36001139446861385 Test Acc: % 95.46632124352331\n"
     ]
    }
   ],
   "source": [
    "model.load_state_dict(torch.load('checkpoint.pt'))\n",
    "\n",
    "# test\n",
    "def test(model, dataloader, criterion):\n",
    "    test_loss = 0\n",
    "    test_acc = 0\n",
    "    total = 0\n",
    "    \n",
    "    model.eval()\n",
    "    \n",
    "    with torch.no_grad():\n",
    "        for inputs, targets in dataloader:\n",
    "            outputs = model(inputs)\n",
    "            loss = criterion(outputs, targets.squeeze().long())\n",
    "            \n",
    "            _, predicted = torch.max(outputs, 1)\n",
    "            total += targets.size(0)\n",
    "            test_acc += (predicted == targets.squeeze().long()).sum().item()\n",
    "            test_loss += loss.item() * inputs.size(0)\n",
    "        \n",
    "    return test_loss / total, test_acc / total\n",
    "   \n",
    "# test veri seti üzerinde model performansı\n",
    "test_loss, test_acc = test(model, test_loader, criterion)\n",
    "\n",
    "print('Test Loss: ' ,test_loss , 'Test Acc: %', test_acc*100)\n"
   ]
  },
  {
   "cell_type": "code",
   "execution_count": 27,
   "id": "2a3b01e3",
   "metadata": {},
   "outputs": [
    {
     "name": "stdout",
     "output_type": "stream",
     "text": [
      "Accuracy: 0.9546632124352331\n",
      "F1 score: 0.9546412174015226\n",
      "Precision: 0.9558953140242877\n",
      "Recall: 0.9548029424398625\n"
     ]
    }
   ],
   "source": [
    "from sklearn.metrics import accuracy_score\n",
    "from sklearn.metrics import f1_score\n",
    "from sklearn.metrics import precision_score\n",
    "from sklearn.metrics import recall_score\n",
    "y_true = []\n",
    "y_pred = []\n",
    "with torch.no_grad():\n",
    "    for data in test_loader:\n",
    "        inputs, labels = data\n",
    "        inputs, labels = inputs.to(device), labels.to(device)\n",
    "        outputs = model(inputs)\n",
    "        predicted = torch.argmax(outputs, dim=1)\n",
    "        y_true += labels.cpu().tolist()\n",
    "        y_pred += predicted.cpu().tolist()\n",
    "\n",
    "accuracy = accuracy_score(y_true, y_pred)\n",
    "f1 = f1_score(y_true, y_pred, average='macro')\n",
    "precision = precision_score(y_true, y_pred, average='macro')\n",
    "recall = recall_score(y_true, y_pred, average='macro')\n",
    "\n",
    "print('Accuracy:', accuracy)\n",
    "print('F1 score:', f1)\n",
    "print('Precision:', precision)\n",
    "print('Recall:', recall)"
   ]
  }
 ],
 "metadata": {
  "kernelspec": {
   "display_name": "Python 3 (ipykernel)",
   "language": "python",
   "name": "python3"
  },
  "language_info": {
   "codemirror_mode": {
    "name": "ipython",
    "version": 3
   },
   "file_extension": ".py",
   "mimetype": "text/x-python",
   "name": "python",
   "nbconvert_exporter": "python",
   "pygments_lexer": "ipython3",
   "version": "3.11.3"
  }
 },
 "nbformat": 4,
 "nbformat_minor": 5
}
